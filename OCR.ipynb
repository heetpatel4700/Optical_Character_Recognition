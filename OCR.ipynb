{
 "cells": [
  {
   "cell_type": "markdown",
   "id": "c0f15fc6",
   "metadata": {},
   "source": [
    "# 1. Installing Dependencies"
   ]
  },
  {
   "cell_type": "code",
   "execution_count": null,
   "id": "755cdbce",
   "metadata": {},
   "outputs": [],
   "source": [
    "!conda install pytorch torchvision torchaudio cudatoolkit=11.1 -c pytorch -c conda-forge #visit pytorch website for command that is specfic for your system.\n",
    "!pip install easyocr"
   ]
  },
  {
   "cell_type": "markdown",
   "id": "c162af0a",
   "metadata": {},
   "source": [
    "# 2. Importing Dependencies "
   ]
  },
  {
   "cell_type": "code",
   "execution_count": null,
   "id": "867a8a72",
   "metadata": {},
   "outputs": [],
   "source": [
    "import easyocr\n",
    "import cv2\n",
    "from matplotlib import pyplot as plt\n",
    "import numpy as np"
   ]
  },
  {
   "cell_type": "markdown",
   "id": "247a8b51",
   "metadata": {},
   "source": [
    "# 3. Read an image"
   ]
  },
  {
   "cell_type": "code",
   "execution_count": null,
   "id": "dc66c7a3",
   "metadata": {},
   "outputs": [],
   "source": [
    "IMAGE_PATH = 'Image/The Right One.png' \n",
    "f = IMAGE_PATH.split(\"/\")\n",
    "d = f[1].split(\".\")"
   ]
  },
  {
   "cell_type": "markdown",
   "id": "7cb3469a",
   "metadata": {},
   "source": [
    "# 4. Reading text from the image"
   ]
  },
  {
   "cell_type": "code",
   "execution_count": null,
   "id": "3ae49712",
   "metadata": {},
   "outputs": [],
   "source": [
    "reader = easyocr.Reader(['en'], gpu=True) #Use gpu=False if you do not have Nvidia Cuda installed.\n",
    "result = reader.readtext(IMAGE_PATH)\n",
    "result"
   ]
  },
  {
   "cell_type": "markdown",
   "id": "38453d59",
   "metadata": {},
   "source": [
    "# 5. Handling Multiple Lines "
   ]
  },
  {
   "cell_type": "code",
   "execution_count": null,
   "id": "ea22204e",
   "metadata": {},
   "outputs": [],
   "source": [
    "img = cv2.imread(IMAGE_PATH)\n",
    "for detection in result:\n",
    "    top_left = tuple([int(val) for val in detection[0][0]])\n",
    "    bottom_right = tuple([int(val) for val in detection[0][2]])\n",
    "    text = detection[1]\n",
    "    font = cv2.FONT_HERSHEY_SIMPLEX\n",
    "    img = cv2.rectangle(img, top_left, bottom_right, (0,255,0), 5)\n",
    "    img = cv2.putText(img, text, top_left, font, 2, (255,255,255), 2, cv2.LINE_AA)\n",
    "                         \n",
    "plt.figure(figsize=(7,7))\n",
    "plt.imshow(img)\n",
    "plt.show()"
   ]
  },
  {
   "cell_type": "markdown",
   "id": "b5b4206b",
   "metadata": {},
   "source": [
    "# 6. Saving predicted text to .txt file"
   ]
  },
  {
   "cell_type": "code",
   "execution_count": null,
   "id": "799cfe96",
   "metadata": {},
   "outputs": [],
   "source": [
    "e = \"Text file/\" + str(d[0]) + \".txt\"\n",
    "f = open(e, \"a\")\n",
    "\n",
    "for j in range (len(result)):\n",
    "    a = result[j][1]\n",
    "    f.write(a)\n",
    "    f.write(\"\\n\")\n",
    "    \n",
    "f.close()\n",
    "\n",
    "#open and read the file after the appending:\n",
    "f = open(e, \"r\")\n",
    "print(f.read())"
   ]
  },
  {
   "cell_type": "code",
   "execution_count": null,
   "id": "a6e35409",
   "metadata": {},
   "outputs": [],
   "source": []
  }
 ],
 "metadata": {
  "kernelspec": {
   "display_name": "Python 3",
   "language": "python",
   "name": "python3"
  },
  "language_info": {
   "codemirror_mode": {
    "name": "ipython",
    "version": 3
   },
   "file_extension": ".py",
   "mimetype": "text/x-python",
   "name": "python",
   "nbconvert_exporter": "python",
   "pygments_lexer": "ipython3",
   "version": "3.8.10"
  }
 },
 "nbformat": 4,
 "nbformat_minor": 5
}
